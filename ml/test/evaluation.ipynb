{
 "cells": [
  {
   "cell_type": "markdown",
   "metadata": {},
   "source": [
    "# Evaluation"
   ]
  },
  {
   "cell_type": "code",
   "execution_count": 3,
   "metadata": {},
   "outputs": [],
   "source": [
    "import os\n",
    "import numpy as np\n",
    "import pandas as pd\n",
    "from joblib import load\n",
    "import librosa"
   ]
  },
  {
   "cell_type": "code",
   "execution_count": 4,
   "metadata": {},
   "outputs": [],
   "source": [
    "DATA_DIRECTORY = os.path.join(\"..\", \"data\")"
   ]
  },
  {
   "cell_type": "code",
   "execution_count": null,
   "metadata": {},
   "outputs": [],
   "source": [
    "def load_data(file_path):\n",
    "    print(\"Loading audio file:\", file_path)\n",
    "    audio, sample_rate = librosa.load(file_path, sr=None)\n",
    "    print(\"Audio loaded. Sample rate:\", sample_rate, \"Length:\", len(audio))\n",
    "    return audio, sample_rate\n",
    "\n",
    "\n",
    "def analyze_voice(audio, sample_rate):\n",
    "    try:\n",
    "        # print(\"Extracting MFCCs...\")\n",
    "        mfccs = librosa.feature.mfcc(y=audio, sr=sample_rate, n_mfcc=40)\n",
    "\n",
    "        # print(\"Extracting Chroma...\")\n",
    "        chroma = librosa.feature.chroma_stft(y=audio, sr=sample_rate)\n",
    "\n",
    "        # print(\"Extracting Mel Spectrogram...\")\n",
    "        mel = librosa.feature.melspectrogram(y=audio, sr=sample_rate)  # Corrected line\n",
    "\n",
    "        # print(\"Extracting Spectral Contrast...\")\n",
    "        contrast = librosa.feature.spectral_contrast(y=audio, sr=sample_rate)\n",
    "\n",
    "        # print(\"Extracting Tonnetz...\")\n",
    "        tonnetz = librosa.feature.tonnetz(y=librosa.effects.harmonic(audio), sr=sample_rate)\n",
    "\n",
    "        return {\n",
    "                    \"length\": len(audio),\n",
    "                    \"mfccs\": np.mean(mfccs) if mfccs.ndim > 1 else np.mean(mfccs),\n",
    "                    \"chroma\": np.mean(chroma) if chroma.ndim > 1 else np.mean(chroma),\n",
    "                    \"mel\": np.mean(mel) if mel.ndim > 1 else np.mean(mel),\n",
    "                    \"contrast\": np.mean(contrast) if contrast.ndim > 1 else np.mean(contrast),\n",
    "                    \"tonnetz\": np.mean(tonnetz) if tonnetz.ndim > 1 else np.mean(tonnetz)\n",
    "                }\n",
    "    \n",
    "    except Exception as e:\n",
    "        print(f\"Error analyzing audio data: {e}\")"
   ]
  },
  {
   "cell_type": "code",
   "execution_count": null,
   "metadata": {},
   "outputs": [],
   "source": [
    "df = pd.DataFrame(columns=[\"name\", \"number\", \"length\", \"sample_rate\", \n",
    "                           \"mfccs\", \"chroma\", \"mel\", \"contrast\", \"tonnetz\"])\n",
    "\n",
    "for subdirectory in os.listdir(TRAINING_DATA_DIRECTORY):\n",
    "    subdirectory_path = os.path.join(TRAINING_DATA_DIRECTORY, subdirectory)\n",
    "    print(f\"Iterating files in {subdirectory_path}\")\n",
    "\n",
    "    if os.path.isdir(subdirectory_path):\n",
    "        for filename in os.listdir(subdirectory_path):\n",
    "            if filename.lower().endswith(\".wav\"):\n",
    "                file_path = os.path.join(subdirectory_path, filename)\n",
    "                try:\n",
    "                    name, number_with_extension = filename.split(\"+\")\n",
    "                    number = int(number_with_extension.split('.')[0])\n",
    "\n",
    "                    print(f\"Processing {filename}...\")\n",
    "                    audio, sample_rate = load_data(file_path)\n",
    "                    voice_data = analyze_voice(audio, sample_rate)\n",
    "\n",
    "                    temp_df = pd.DataFrame({\n",
    "                        \"name\": [name.lower()],\n",
    "                        \"number\": [number],\n",
    "                        \"length\": [voice_data[\"length\"]],\n",
    "                        \"sample_rate\": [sample_rate],\n",
    "                        \"mfccs\": [voice_data[\"mfccs\"]],  # Compute mean across the appropriate axis\n",
    "                        \"chroma\": [voice_data[\"chroma\"]],\n",
    "                        \"mel\": [voice_data[\"mel\"]],\n",
    "                        \"contrast\": [voice_data[\"contrast\"]],\n",
    "                        \"tonnetz\": [voice_data[\"tonnetz\"]],\n",
    "                    })\n",
    "\n",
    "                    df = pd.concat([df, temp_df], ignore_index=True)\n",
    "\n",
    "                except Exception as e:\n",
    "                    print(f\"Error processing {filename} in {subdirectory}: {e}\")"
   ]
  },
  {
   "cell_type": "code",
   "execution_count": 6,
   "metadata": {},
   "outputs": [],
   "source": [
    "model_file_path = os.path.join(DATA_DIRECTORY, \"random_forest_model.joblib\")\n",
    "model = load(model_file_path)"
   ]
  },
  {
   "cell_type": "code",
   "execution_count": null,
   "metadata": {},
   "outputs": [],
   "source": []
  }
 ],
 "metadata": {
  "kernelspec": {
   "display_name": "hacked_2024_env",
   "language": "python",
   "name": "python3"
  },
  "language_info": {
   "codemirror_mode": {
    "name": "ipython",
    "version": 3
   },
   "file_extension": ".py",
   "mimetype": "text/x-python",
   "name": "python",
   "nbconvert_exporter": "python",
   "pygments_lexer": "ipython3",
   "version": "3.9.18"
  }
 },
 "nbformat": 4,
 "nbformat_minor": 2
}
