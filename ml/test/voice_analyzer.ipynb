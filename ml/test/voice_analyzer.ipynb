{
 "cells": [
  {
   "cell_type": "markdown",
   "metadata": {},
   "source": [
    "# Voice Analyzer"
   ]
  },
  {
   "cell_type": "code",
   "execution_count": 10,
   "metadata": {},
   "outputs": [],
   "source": [
    "import os\n",
    "import numpy as np\n",
    "import pandas as pd\n",
    "from joblib import load\n",
    "from scipy.io import wavfile\n",
    "import sounddevice as sd\n",
    "import librosa"
   ]
  },
  {
   "cell_type": "code",
   "execution_count": 11,
   "metadata": {},
   "outputs": [],
   "source": [
    "DATA_DIRECTORY = os.path.join(\"..\", \"data\")"
   ]
  },
  {
   "cell_type": "markdown",
   "metadata": {},
   "source": [
    "# 1. User Input"
   ]
  },
  {
   "cell_type": "code",
   "execution_count": 12,
   "metadata": {},
   "outputs": [],
   "source": [
    "def record_voice(filename, duration=5, fs=44100):\n",
    "    \"\"\"\n",
    "    Record voice for a given duration and save it as a .wav file.\n",
    "\n",
    "    :param filename: str, the name of the file to save the recording.\n",
    "    :param duration: int, duration of the recording in seconds.\n",
    "    :param fs: int, sampling rate.\n",
    "    \"\"\"\n",
    "    print(\"Recording...\")\n",
    "    recording = sd.rec(int(duration * fs), samplerate=fs, channels=2)\n",
    "    sd.wait()  # Wait until recording is finished\n",
    "    print(\"Recording finished. Saving file...\")\n",
    "    wavfile.write(filename, fs, recording)  # Save as WAV file "
   ]
  },
  {
   "cell_type": "code",
   "execution_count": 13,
   "metadata": {},
   "outputs": [
    {
     "name": "stdout",
     "output_type": "stream",
     "text": [
      "Recording...\n",
      "Recording finished. Saving file...\n"
     ]
    }
   ],
   "source": [
    "record_voice('voice_recording.wav')"
   ]
  },
  {
   "cell_type": "markdown",
   "metadata": {},
   "source": [
    "# 2. Feature Extraction"
   ]
  },
  {
   "cell_type": "code",
   "execution_count": 14,
   "metadata": {},
   "outputs": [],
   "source": [
    "def load_data(file_path):\n",
    "    print(\"Loading audio file:\", file_path)\n",
    "    audio, sample_rate = librosa.load(file_path, sr=None)\n",
    "    print(\"Audio loaded. Sample rate:\", sample_rate, \"Length:\", len(audio))\n",
    "    return audio, sample_rate\n",
    "\n",
    "\n",
    "def analyze_voice(audio, sample_rate):\n",
    "    try:\n",
    "        # print(\"Extracting MFCCs...\")\n",
    "        mfccs = librosa.feature.mfcc(y=audio, sr=sample_rate, n_mfcc=40)\n",
    "\n",
    "        # print(\"Extracting Chroma...\")\n",
    "        chroma = librosa.feature.chroma_stft(y=audio, sr=sample_rate)\n",
    "\n",
    "        # print(\"Extracting Mel Spectrogram...\")\n",
    "        mel = librosa.feature.melspectrogram(y=audio, sr=sample_rate)  # Corrected line\n",
    "\n",
    "        # print(\"Extracting Spectral Contrast...\")\n",
    "        contrast = librosa.feature.spectral_contrast(y=audio, sr=sample_rate)\n",
    "\n",
    "        # print(\"Extracting Tonnetz...\")\n",
    "        tonnetz = librosa.feature.tonnetz(y=librosa.effects.harmonic(audio), sr=sample_rate)\n",
    "\n",
    "        return pd.DataFrame({\n",
    "                    \"length\": [len(audio)],\n",
    "                    \"sample_rate\": [sample_rate],\n",
    "                    \"mfccs\": [np.mean(mfccs) if mfccs.ndim > 1 else np.mean(mfccs)],\n",
    "                    \"chroma\": [np.mean(chroma) if chroma.ndim > 1 else np.mean(chroma)],\n",
    "                    \"mel\": [np.mean(mel) if mel.ndim > 1 else np.mean(mel)],\n",
    "                    \"contrast\": [np.mean(contrast) if contrast.ndim > 1 else np.mean(contrast)],\n",
    "                    \"tonnetz\": [np.mean(tonnetz) if tonnetz.ndim > 1 else np.mean(tonnetz)]\n",
    "                })\n",
    "    \n",
    "    except Exception as e:\n",
    "        print(f\"Error analyzing audio data: {e}\")"
   ]
  },
  {
   "cell_type": "code",
   "execution_count": 15,
   "metadata": {},
   "outputs": [
    {
     "name": "stdout",
     "output_type": "stream",
     "text": [
      "Loading audio file: voice_recording.wav\n",
      "Audio loaded. Sample rate: 44100 Length: 220500\n",
      "   length  sample_rate    mfccs    chroma       mel  contrast   tonnetz\n",
      "0  220500        44100 -8.78126  0.422828  0.842698  20.74218  0.001552\n"
     ]
    }
   ],
   "source": [
    "audio, sample_rate = load_data('voice_recording.wav')\n",
    "voice_data = analyze_voice(audio, sample_rate)\n",
    "print(voice_data)"
   ]
  },
  {
   "cell_type": "code",
   "execution_count": 16,
   "metadata": {},
   "outputs": [
    {
     "name": "stdout",
     "output_type": "stream",
     "text": [
      "Loaded model type: RandomForestClassifier\n"
     ]
    },
    {
     "name": "stderr",
     "output_type": "stream",
     "text": [
      "d:\\johmi\\anaconda3\\envs\\hacked_2024_env\\lib\\site-packages\\sklearn\\base.py:458: UserWarning: X has feature names, but RandomForestClassifier was fitted without feature names\n",
      "  warnings.warn(\n",
      "d:\\johmi\\anaconda3\\envs\\hacked_2024_env\\lib\\site-packages\\sklearn\\base.py:458: UserWarning: X has feature names, but RandomForestClassifier was fitted without feature names\n",
      "  warnings.warn(\n"
     ]
    }
   ],
   "source": [
    "X_pred = voice_data.drop(columns=[\"length\", \"sample_rate\"])\n",
    "\n",
    "model_file_path = os.path.join(DATA_DIRECTORY, \"model.joblib\")\n",
    "model = load(model_file_path)\n",
    "print(\"Loaded model type:\", type(model).__name__)\n",
    "model_classes = model.classes_\n",
    "predicted_label = model.predict(X_pred)\n",
    "predicted_probability = model.predict_proba(X_pred)"
   ]
  },
  {
   "cell_type": "code",
   "execution_count": 17,
   "metadata": {},
   "outputs": [
    {
     "name": "stdout",
     "output_type": "stream",
     "text": [
      "Figure:\tandrew_tate,\tProbability:\t3.2%\n",
      "Figure:\tdonald_trump,\tProbability:\t5.4%\n",
      "Figure:\tkanye_west,\tProbability:\t20.0%\n",
      "Figure:\tkendrick_lamar,\tProbability:\t2.8%\n",
      "Figure:\tmarge_simpson,\tProbability:\t4.7%\n",
      "Figure:\tmorgan_freeman,\tProbability:\t45.0%\n",
      "Figure:\tspongebob,\tProbability:\t0.0%\n",
      "Figure:\tsquidward_tentacles,\tProbability:\t18.9%\n"
     ]
    }
   ],
   "source": [
    "for class_index in range(len(model_classes)):\n",
    "    print(f\"Figure:\\t{model_classes[class_index]},\\tProbability:\\t{predicted_probability[0][class_index]*100:2.1f}%\")"
   ]
  },
  {
   "cell_type": "code",
   "execution_count": null,
   "metadata": {},
   "outputs": [],
   "source": []
  }
 ],
 "metadata": {
  "kernelspec": {
   "display_name": "hacked_2024_env",
   "language": "python",
   "name": "python3"
  },
  "language_info": {
   "codemirror_mode": {
    "name": "ipython",
    "version": 3
   },
   "file_extension": ".py",
   "mimetype": "text/x-python",
   "name": "python",
   "nbconvert_exporter": "python",
   "pygments_lexer": "ipython3",
   "version": "3.9.18"
  }
 },
 "nbformat": 4,
 "nbformat_minor": 2
}
