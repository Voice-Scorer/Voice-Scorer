{
 "cells": [
  {
   "cell_type": "markdown",
   "metadata": {},
   "source": [
    "# Train Model"
   ]
  },
  {
   "cell_type": "code",
   "execution_count": 1,
   "metadata": {},
   "outputs": [],
   "source": [
    "import os\n",
    "import pandas as pd\n",
    "from sklearn.model_selection import train_test_split\n",
    "from sklearn.preprocessing import StandardScaler\n",
    "from sklearn.ensemble import RandomForestClassifier\n",
    "from sklearn.model_selection import GridSearchCV, train_test_split\n",
    "from sklearn.metrics import accuracy_score\n",
    "from sklearn.metrics import confusion_matrix, classification_report\n",
    "import seaborn as sns\n",
    "import matplotlib.pyplot as plt\n",
    "from joblib import dump"
   ]
  },
  {
   "cell_type": "code",
   "execution_count": 2,
   "metadata": {},
   "outputs": [],
   "source": [
    "DATA_DIRECTORY = os.path.join(\"..\", \"data\")"
   ]
  },
  {
   "cell_type": "code",
   "execution_count": 3,
   "metadata": {},
   "outputs": [
    {
     "data": {
      "text/html": [
       "<div>\n",
       "<style scoped>\n",
       "    .dataframe tbody tr th:only-of-type {\n",
       "        vertical-align: middle;\n",
       "    }\n",
       "\n",
       "    .dataframe tbody tr th {\n",
       "        vertical-align: top;\n",
       "    }\n",
       "\n",
       "    .dataframe thead th {\n",
       "        text-align: right;\n",
       "    }\n",
       "</style>\n",
       "<table border=\"1\" class=\"dataframe\">\n",
       "  <thead>\n",
       "    <tr style=\"text-align: right;\">\n",
       "      <th></th>\n",
       "      <th>name</th>\n",
       "      <th>number</th>\n",
       "      <th>length</th>\n",
       "      <th>sample_rate</th>\n",
       "      <th>mfccs</th>\n",
       "      <th>chroma</th>\n",
       "      <th>mel</th>\n",
       "      <th>contrast</th>\n",
       "      <th>tonnetz</th>\n",
       "    </tr>\n",
       "  </thead>\n",
       "  <tbody>\n",
       "    <tr>\n",
       "      <th>0</th>\n",
       "      <td>andrew_tate</td>\n",
       "      <td>1</td>\n",
       "      <td>252633</td>\n",
       "      <td>32000</td>\n",
       "      <td>0.704921</td>\n",
       "      <td>0.623512</td>\n",
       "      <td>0.526682</td>\n",
       "      <td>0.854140</td>\n",
       "      <td>0.044352</td>\n",
       "    </tr>\n",
       "    <tr>\n",
       "      <th>1</th>\n",
       "      <td>andrew_tate</td>\n",
       "      <td>10</td>\n",
       "      <td>229227</td>\n",
       "      <td>32000</td>\n",
       "      <td>0.732798</td>\n",
       "      <td>0.665359</td>\n",
       "      <td>0.440998</td>\n",
       "      <td>0.855167</td>\n",
       "      <td>-0.026122</td>\n",
       "    </tr>\n",
       "    <tr>\n",
       "      <th>2</th>\n",
       "      <td>andrew_tate</td>\n",
       "      <td>11</td>\n",
       "      <td>328423</td>\n",
       "      <td>32000</td>\n",
       "      <td>0.725449</td>\n",
       "      <td>0.611552</td>\n",
       "      <td>0.467615</td>\n",
       "      <td>0.903398</td>\n",
       "      <td>0.029123</td>\n",
       "    </tr>\n",
       "    <tr>\n",
       "      <th>3</th>\n",
       "      <td>andrew_tate</td>\n",
       "      <td>12</td>\n",
       "      <td>335110</td>\n",
       "      <td>32000</td>\n",
       "      <td>0.705710</td>\n",
       "      <td>0.640897</td>\n",
       "      <td>0.482669</td>\n",
       "      <td>0.877912</td>\n",
       "      <td>-0.062082</td>\n",
       "    </tr>\n",
       "    <tr>\n",
       "      <th>4</th>\n",
       "      <td>andrew_tate</td>\n",
       "      <td>13</td>\n",
       "      <td>260806</td>\n",
       "      <td>32000</td>\n",
       "      <td>0.705736</td>\n",
       "      <td>0.647412</td>\n",
       "      <td>0.369456</td>\n",
       "      <td>0.859094</td>\n",
       "      <td>-0.026114</td>\n",
       "    </tr>\n",
       "  </tbody>\n",
       "</table>\n",
       "</div>"
      ],
      "text/plain": [
       "          name  number  length  sample_rate     mfccs    chroma       mel  \\\n",
       "0  andrew_tate       1  252633        32000  0.704921  0.623512  0.526682   \n",
       "1  andrew_tate      10  229227        32000  0.732798  0.665359  0.440998   \n",
       "2  andrew_tate      11  328423        32000  0.725449  0.611552  0.467615   \n",
       "3  andrew_tate      12  335110        32000  0.705710  0.640897  0.482669   \n",
       "4  andrew_tate      13  260806        32000  0.705736  0.647412  0.369456   \n",
       "\n",
       "   contrast   tonnetz  \n",
       "0  0.854140  0.044352  \n",
       "1  0.855167 -0.026122  \n",
       "2  0.903398  0.029123  \n",
       "3  0.877912 -0.062082  \n",
       "4  0.859094 -0.026114  "
      ]
     },
     "execution_count": 3,
     "metadata": {},
     "output_type": "execute_result"
    }
   ],
   "source": [
    "file_path = os.path.join(DATA_DIRECTORY, 'normalized_training_data_summary.csv')\n",
    "df = pd.read_csv(file_path)\n",
    "df.head()"
   ]
  },
  {
   "cell_type": "code",
   "execution_count": 4,
   "metadata": {},
   "outputs": [],
   "source": [
    "# Separate features and target variable\n",
    "X = df[['mfccs', 'chroma', 'mel', 'contrast', 'tonnetz']]\n",
    "y = df['name']  # or whatever your target variable is\n",
    "\n",
    "# Flatten your features if they are in lists or arrays within the DataFrame\n",
    "# Example for a single feature column:\n",
    "# X['mfccs'] = X['mfccs'].apply(lambda x: np.array(x).flatten())\n",
    "\n",
    "# Split into training and testing set\n",
    "X_train, X_test, y_train, y_test = train_test_split(X, y, test_size=0.2, random_state=30)\n",
    "\n",
    "# Standardize features\n",
    "scaler = StandardScaler()\n",
    "X_train = scaler.fit_transform(X_train)\n",
    "X_test = scaler.transform(X_test)"
   ]
  },
  {
   "cell_type": "code",
   "execution_count": 5,
   "metadata": {},
   "outputs": [
    {
     "name": "stdout",
     "output_type": "stream",
     "text": [
      "Fitting 5 folds for each of 108 candidates, totalling 540 fits\n",
      "Best Parameters: {'max_depth': 10, 'min_samples_leaf': 2, 'min_samples_split': 5, 'n_estimators': 100}\n",
      "Best Model Accuracy: 0.984375\n"
     ]
    }
   ],
   "source": [
    "# Initialize\n",
    "model = RandomForestClassifier()\n",
    "\n",
    "param_grid = {\n",
    "    'n_estimators': [100, 200, 300],\n",
    "    'max_depth': [None, 10, 20, 30],\n",
    "    'min_samples_split': [2, 5, 10],\n",
    "    'min_samples_leaf': [1, 2, 4]\n",
    "}\n",
    "# Initialize the GridSearchCV object\n",
    "grid_search = GridSearchCV(estimator=model, param_grid=param_grid, \n",
    "                           cv=5, n_jobs=-1, verbose=2, scoring='accuracy')\n",
    "\n",
    "# Fit the grid search to the data\n",
    "grid_search.fit(X_train, y_train)\n",
    "\n",
    "# Print the best parameters\n",
    "print(\"Best Parameters:\", grid_search.best_params_)\n",
    "\n",
    "# Retrieve the best model from the grid search\n",
    "best_model = grid_search.best_estimator_\n",
    "\n",
    "# Predict on the test set using the best model\n",
    "y_pred = best_model.predict(X_test)\n",
    "\n",
    "# Evaluate the best model\n",
    "accuracy = accuracy_score(y_test, y_pred)\n",
    "print(f\"Best Model Accuracy: {accuracy}\")"
   ]
  },
  {
   "cell_type": "code",
   "execution_count": 6,
   "metadata": {},
   "outputs": [
    {
     "data": {
      "image/png": "[encoded data removed]",
      "text/plain": [
       "<Figure size 1000x800 with 2 Axes>"
      ]
     },
     "metadata": {},
     "output_type": "display_data"
    },
    {
     "name": "stdout",
     "output_type": "stream",
     "text": [
      "Classification Report:\n",
      "                      precision    recall  f1-score   support\n",
      "\n",
      "        andrew_tate       1.00      0.89      0.94         9\n",
      "       donald_trump       1.00      1.00      1.00        11\n",
      "         kanye_west       0.90      1.00      0.95         9\n",
      "     kendrick_lamar       1.00      1.00      1.00         9\n",
      "      marge_simpson       1.00      1.00      1.00         5\n",
      "     morgan_freeman       1.00      1.00      1.00        12\n",
      "          spongebob       1.00      1.00      1.00         2\n",
      "squidward_tentacles       1.00      1.00      1.00         7\n",
      "\n",
      "           accuracy                           0.98        64\n",
      "          macro avg       0.99      0.99      0.99        64\n",
      "       weighted avg       0.99      0.98      0.98        64\n",
      "\n"
     ]
    }
   ],
   "source": [
    "# Predict on the test set\n",
    "y_pred = best_model.predict(X_test)\n",
    "\n",
    "# Confusion Matrix\n",
    "conf_matrix = confusion_matrix(y_test, y_pred)\n",
    "plt.figure(figsize=(10, 8))\n",
    "sns.heatmap(conf_matrix, annot=True, fmt='g')\n",
    "plt.title('Confusion Matrix')\n",
    "plt.ylabel('Actual Label')\n",
    "plt.xlabel('Predicted Label')\n",
    "plt.show()\n",
    "\n",
    "# Classification Report\n",
    "class_report = classification_report(y_test, y_pred)\n",
    "print(\"Classification Report:\\n\", class_report)"
   ]
  },
  {
   "cell_type": "code",
   "execution_count": 7,
   "metadata": {},
   "outputs": [
    {
     "data": {
      "text/plain": [
       "['..\\\\data\\\\model.joblib']"
      ]
     },
     "execution_count": 7,
     "metadata": {},
     "output_type": "execute_result"
    }
   ],
   "source": [
    "model_file_path = os.path.join(DATA_DIRECTORY, 'model.joblib')\n",
    "dump(best_model, model_file_path)"
   ]
  },
  {
   "cell_type": "code",
   "execution_count": null,
   "metadata": {},
   "outputs": [],
   "source": []
  }
 ],
 "metadata": {
  "kernelspec": {
   "display_name": "hacked_2024_env",
   "language": "python",
   "name": "python3"
  },
  "language_info": {
   "codemirror_mode": {
    "name": "ipython",
    "version": 3
   },
   "file_extension": ".py",
   "mimetype": "text/x-python",
   "name": "python",
   "nbconvert_exporter": "python",
   "pygments_lexer": "ipython3",
   "version": "3.9.18"
  }
 },
 "nbformat": 4,
 "nbformat_minor": 2
}
